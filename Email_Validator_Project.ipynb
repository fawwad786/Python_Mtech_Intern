{
  "nbformat": 4,
  "nbformat_minor": 0,
  "metadata": {
    "colab": {
      "provenance": []
    },
    "kernelspec": {
      "name": "python3",
      "display_name": "Python 3"
    },
    "language_info": {
      "name": "python"
    }
  },
  "cells": [
    {
      "cell_type": "markdown",
      "source": [
        "#**Email Validator Python Project**"
      ],
      "metadata": {
        "id": "GScRRRaK87_9"
      }
    },
    {
      "cell_type": "code",
      "execution_count": null,
      "metadata": {
        "id": "Use01R7w8zpU",
        "colab": {
          "base_uri": "https://localhost:8080/"
        },
        "outputId": "6147e3c9-887f-4602-ab0a-d05f434b41cd"
      },
      "outputs": [
        {
          "output_type": "stream",
          "name": "stdout",
          "text": [
            "Enter an email address: bushra$-0@-gmail.com\n",
            "The email 'bushra$-0@-gmail.com' is invalid.\n"
          ]
        }
      ],
      "source": [
        "import re\n",
        "\n",
        "# Function to validate an email address\n",
        "def is_valid_email(email):\n",
        "    # Regular expression for validating an email\n",
        "    pattern = r'^[a-zA-Z0-9_.+-]+@[a-zA-Z0-9-]+\\.[a-zA-Z0-9-.]+$'\n",
        "\n",
        "    # Matching the input email with the pattern\n",
        "    if re.match(pattern, email):\n",
        "        return True\n",
        "    else:\n",
        "        return False\n",
        "\n",
        "# Main program\n",
        "if __name__ == \"__main__\":\n",
        "    # User input\n",
        "    email = input(\"Enter an email address: \")\n",
        "\n",
        "    # Check if the email is valid\n",
        "    if is_valid_email(email):\n",
        "        print(f\"The email '{email}' is valid.\")\n",
        "    else:\n",
        "        print(f\"The email '{email}' is invalid.\")\n"
      ]
    }
  ]
}