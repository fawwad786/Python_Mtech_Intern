{
  "nbformat": 4,
  "nbformat_minor": 0,
  "metadata": {
    "colab": {
      "provenance": []
    },
    "kernelspec": {
      "name": "python3",
      "display_name": "Python 3"
    },
    "language_info": {
      "name": "python"
    }
  },
  "cells": [
    {
      "cell_type": "markdown",
      "source": [
        "#**Vowel Counter**"
      ],
      "metadata": {
        "id": "R_RrBjfPbNSB"
      }
    },
    {
      "cell_type": "code",
      "execution_count": 2,
      "metadata": {
        "colab": {
          "base_uri": "https://localhost:8080/"
        },
        "id": "qooY1z6mbHXg",
        "outputId": "c62e1586-dadb-469a-a07f-057a6d1fc53a"
      },
      "outputs": [
        {
          "output_type": "stream",
          "name": "stdout",
          "text": [
            "Enter a string: Bushra\n",
            "The number of vowels in the given string is: 2\n"
          ]
        }
      ],
      "source": [
        "# Vowel Counter Program\n",
        "\n",
        "# Function to count vowels in a string\n",
        "def count_vowels(input_string):\n",
        "    # List of vowels (both uppercase and lowercase)\n",
        "    vowels = \"aeiouAEIOU\"\n",
        "    count = 0\n",
        "\n",
        "    # Loop through each character in the input string\n",
        "    for char in input_string:\n",
        "        # Check if the character is a vowel\n",
        "        if char in vowels:\n",
        "            count += 1  # Increment count if a vowel is found\n",
        "\n",
        "    return count\n",
        "\n",
        "# Main program\n",
        "if __name__ == \"__main__\":\n",
        "    # Taking input from the user\n",
        "    user_input = input(\"Enter a string: \")\n",
        "\n",
        "    # Calling the function to count vowels\n",
        "    vowel_count = count_vowels(user_input)\n",
        "\n",
        "    # Displaying the result\n",
        "    print(f\"The number of vowels in the given string is: {vowel_count}\")\n"
      ]
    }
  ]
}