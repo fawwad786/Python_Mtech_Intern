{
  "nbformat": 4,
  "nbformat_minor": 0,
  "metadata": {
    "colab": {
      "provenance": []
    },
    "kernelspec": {
      "name": "python3",
      "display_name": "Python 3"
    },
    "language_info": {
      "name": "python"
    }
  },
  "cells": [
    {
      "cell_type": "markdown",
      "source": [
        "#**Dice Roller**\n",
        "\n"
      ],
      "metadata": {
        "id": "wik2yMTZ3M_Q"
      }
    },
    {
      "cell_type": "code",
      "execution_count": 1,
      "metadata": {
        "colab": {
          "base_uri": "https://localhost:8080/"
        },
        "id": "5l9Io4Cj3Ivr",
        "outputId": "0c881939-1f0c-4852-fc98-cf1376822fce"
      },
      "outputs": [
        {
          "output_type": "stream",
          "name": "stdout",
          "text": [
            "Dice Roller\n",
            "You rolled a 1!\n",
            "Roll again? (yes/no): yes\n",
            "You rolled a 4!\n",
            "Roll again? (yes/no): yes\n",
            "You rolled a 4!\n",
            "Roll again? (yes/no): yes\n",
            "You rolled a 2!\n",
            "Roll again? (yes/no): no\n",
            "Thanks for playing!\n"
          ]
        }
      ],
      "source": [
        "import random\n",
        "\n",
        "# Function to roll the dice\n",
        "def roll_dice():\n",
        "    return random.randint(1, 6)  # Generate a random number between 1 and 6\n",
        "\n",
        "# Main program\n",
        "if __name__ == \"__main__\":\n",
        "    print(\"Dice Roller\")\n",
        "    roll_again = \"yes\"\n",
        "\n",
        "    while roll_again.lower() == \"yes\":\n",
        "        print(f\"You rolled a {roll_dice()}!\")  # Roll the dice and print the result\n",
        "        roll_again = input(\"Roll again? (yes/no): \")\n",
        "\n",
        "    print(\"Thanks for playing!\")\n",
        "\n"
      ]
    }
  ]
}