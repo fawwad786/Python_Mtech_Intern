{
  "nbformat": 4,
  "nbformat_minor": 0,
  "metadata": {
    "colab": {
      "provenance": []
    },
    "kernelspec": {
      "name": "python3",
      "display_name": "Python 3"
    },
    "language_info": {
      "name": "python"
    }
  },
  "cells": [
    {
      "cell_type": "markdown",
      "source": [
        "#**Project: Grade Calculator**\n",
        "\n"
      ],
      "metadata": {
        "id": "WcVoDq1nxai4"
      }
    },
    {
      "cell_type": "code",
      "execution_count": null,
      "metadata": {
        "colab": {
          "base_uri": "https://localhost:8080/"
        },
        "id": "pdZOVGdSxGvS",
        "outputId": "f3f6abca-3137-40d4-8bbf-faf99a8c0e08"
      },
      "outputs": [
        {
          "output_type": "stream",
          "name": "stdout",
          "text": [
            "Grade Calculator Application\n",
            "Enter the number of subjects: 100\n",
            "\n",
            "Subject 1:\n",
            "Enter obtained marks: 85\n",
            "Enter total marks: 100\n",
            "Percentage: 85.00% | Grade: A\n",
            "\n",
            "Subject 2:\n"
          ]
        }
      ],
      "source": [
        "# Grade Calculator Application\n",
        "\n",
        "def calculate_percentage(marks_obtained, total_marks):\n",
        "    return (marks_obtained / total_marks) * 100\n",
        "\n",
        "def assign_grade(percentage):\n",
        "    if percentage >= 90:\n",
        "        return 'A+'\n",
        "    elif percentage >= 80:\n",
        "        return 'A'\n",
        "    elif percentage >= 70:\n",
        "        return 'B'\n",
        "    elif percentage >= 60:\n",
        "        return 'C'\n",
        "    elif percentage >= 50:\n",
        "        return 'D'\n",
        "    else:\n",
        "        return 'F'\n",
        "\n",
        "def main():\n",
        "    print(\"Grade Calculator Application\")\n",
        "\n",
        "    subjects = int(input(\"Enter the number of subjects: \"))\n",
        "    total_obtained_marks = 0\n",
        "    total_max_marks = 0\n",
        "\n",
        "    for i in range(subjects):\n",
        "        print(f\"\\nSubject {i+1}:\")\n",
        "        obtained_marks = float(input(\"Enter obtained marks: \"))\n",
        "        total_marks = float(input(\"Enter total marks: \"))\n",
        "\n",
        "        total_obtained_marks += obtained_marks\n",
        "        total_max_marks += total_marks\n",
        "\n",
        "        percentage = calculate_percentage(obtained_marks, total_marks)\n",
        "        grade = assign_grade(percentage)\n",
        "        print(f\"Percentage: {percentage:.2f}% | Grade: {grade}\")\n",
        "\n",
        "    final_percentage = calculate_percentage(total_obtained_marks, total_max_marks)\n",
        "    final_grade = assign_grade(final_percentage)\n",
        "\n",
        "    print(f\"\\nFinal Percentage: {final_percentage:.2f}%\")\n",
        "    print(f\"Final Grade: {final_grade}\")\n",
        "\n",
        "if __name__ == \"__main__\":\n",
        "    main()\n"
      ]
    }
  ]
}