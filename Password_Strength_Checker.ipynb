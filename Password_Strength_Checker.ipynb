{
  "nbformat": 4,
  "nbformat_minor": 0,
  "metadata": {
    "colab": {
      "provenance": []
    },
    "kernelspec": {
      "name": "python3",
      "display_name": "Python 3"
    },
    "language_info": {
      "name": "python"
    }
  },
  "cells": [
    {
      "cell_type": "markdown",
      "source": [
        "#**Password Strength Checker:**"
      ],
      "metadata": {
        "id": "dgwSQk_phzhO"
      }
    },
    {
      "cell_type": "code",
      "execution_count": 2,
      "metadata": {
        "colab": {
          "base_uri": "https://localhost:8080/"
        },
        "id": "azvY_mLYdR11",
        "outputId": "8bddc91e-f529-42f4-e3ab-64f3ba8b0d9f"
      },
      "outputs": [
        {
          "output_type": "stream",
          "name": "stdout",
          "text": [
            "Enter a password to check its strength: Bushra@111\n",
            "Strong password!\n"
          ]
        }
      ],
      "source": [
        "import re\n",
        "\n",
        "# Function to check the strength of the password\n",
        "def check_password_strength(password):\n",
        "    if len(password) < 8:\n",
        "        return \"Weak: Password must be at least 8 characters long.\"\n",
        "\n",
        "    if not re.search(r'[A-Z]', password):\n",
        "        return \"Weak: Password must contain at least one uppercase letter.\"\n",
        "\n",
        "    if not re.search(r'[a-z]', password):\n",
        "        return \"Weak: Password must contain at least one lowercase letter.\"\n",
        "\n",
        "    if not re.search(r'[0-9]', password):\n",
        "        return \"Weak: Password must contain at least one digit.\"\n",
        "\n",
        "    if not re.search(r'[!@#$%^&*(),.?\":{}|<>]', password):\n",
        "        return \"Weak: Password must contain at least one special character.\"\n",
        "\n",
        "    return \"Strong password!\"\n",
        "\n",
        "# Main program\n",
        "password = input(\"Enter a password to check its strength: \")\n",
        "result = check_password_strength(password)\n",
        "print(result)\n"
      ]
    }
  ]
}