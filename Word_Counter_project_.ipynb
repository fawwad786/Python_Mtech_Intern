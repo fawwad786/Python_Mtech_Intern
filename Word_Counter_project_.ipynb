{
  "nbformat": 4,
  "nbformat_minor": 0,
  "metadata": {
    "colab": {
      "provenance": []
    },
    "kernelspec": {
      "name": "python3",
      "display_name": "Python 3"
    },
    "language_info": {
      "name": "python"
    }
  },
  "cells": [
    {
      "cell_type": "markdown",
      "source": [
        "#**Word Counter project**"
      ],
      "metadata": {
        "id": "1N0g_kbKLoQT"
      }
    },
    {
      "cell_type": "code",
      "execution_count": 1,
      "metadata": {
        "colab": {
          "base_uri": "https://localhost:8080/"
        },
        "id": "2RjZn7viLO99",
        "outputId": "890926ff-d27d-4b39-ace5-064d7cd6baa7"
      },
      "outputs": [
        {
          "output_type": "stream",
          "name": "stdout",
          "text": [
            "Enhanced Word Counter\n",
            "Enter your text: Python is a high-level, general-purpose programming language. Its design philosophy emphasizes code readability with the use of significant indentation. Python is dynamically typed and garbage-collected. It supports multiple programming paradigms, including structured, object-oriented and functional programming. Wikipedia\n",
            "\n",
            "Total number of words: 37\n",
            "\n",
            "Unique words and their counts:\n",
            "python: 2 times\n",
            "is: 2 times\n",
            "a: 1 times\n",
            "high-level,: 1 times\n",
            "general-purpose: 1 times\n",
            "programming: 2 times\n",
            "language.: 1 times\n",
            "its: 1 times\n",
            "design: 1 times\n",
            "philosophy: 1 times\n",
            "emphasizes: 1 times\n",
            "code: 1 times\n",
            "readability: 1 times\n",
            "with: 1 times\n",
            "the: 1 times\n",
            "use: 1 times\n",
            "of: 1 times\n",
            "significant: 1 times\n",
            "indentation.: 1 times\n",
            "dynamically: 1 times\n",
            "typed: 1 times\n",
            "and: 2 times\n",
            "garbage-collected.: 1 times\n",
            "it: 1 times\n",
            "supports: 1 times\n",
            "multiple: 1 times\n",
            "paradigms,: 1 times\n",
            "including: 1 times\n",
            "structured,: 1 times\n",
            "object-oriented: 1 times\n",
            "functional: 1 times\n",
            "programming.: 1 times\n",
            "wikipedia: 1 times\n",
            "\n",
            "The most frequent word is 'python' which appears 2 times.\n",
            "\n",
            "Total number of characters (excluding spaces): 287\n",
            "\n",
            "The longest word is: garbage-collected.\n"
          ]
        }
      ],
      "source": [
        "# Enhanced Word Counter Project\n",
        "\n",
        "# Function to count the total words\n",
        "def count_words(text):\n",
        "    words = text.split()\n",
        "    return len(words)\n",
        "\n",
        "# Function to count unique words and their frequency\n",
        "def count_unique_words(text):\n",
        "    words = text.split()\n",
        "    unique_words = {}\n",
        "    for word in words:\n",
        "        word = word.lower()  # Convert to lowercase for case insensitivity\n",
        "        if word in unique_words:\n",
        "            unique_words[word] += 1\n",
        "        else:\n",
        "            unique_words[word] = 1\n",
        "    return unique_words\n",
        "\n",
        "# Function to find the most frequent word\n",
        "def most_frequent_word(unique_words):\n",
        "    most_frequent = max(unique_words, key=unique_words.get)\n",
        "    return most_frequent, unique_words[most_frequent]\n",
        "\n",
        "# Function to count total characters (excluding spaces)\n",
        "def count_characters(text):\n",
        "    return len(text.replace(\" \", \"\"))\n",
        "\n",
        "# Function to find the longest word\n",
        "def find_longest_word(text):\n",
        "    words = text.split()\n",
        "    longest_word = max(words, key=len)\n",
        "    return longest_word\n",
        "\n",
        "# Main program\n",
        "if __name__ == \"__main__\":\n",
        "    print(\"Enhanced Word Counter\")\n",
        "\n",
        "    # Take input from the user (long text can be input)\n",
        "    user_input = input(\"Enter your text: \")\n",
        "\n",
        "    # Total word count\n",
        "    word_count = count_words(user_input)\n",
        "    print(f\"\\nTotal number of words: {word_count}\")\n",
        "\n",
        "    # Unique words and their frequencies\n",
        "    unique_words = count_unique_words(user_input)\n",
        "    print(\"\\nUnique words and their counts:\")\n",
        "    for word, count in unique_words.items():\n",
        "        print(f\"{word}: {count} times\")\n",
        "\n",
        "    # Most frequent word\n",
        "    frequent_word, frequency = most_frequent_word(unique_words)\n",
        "    print(f\"\\nThe most frequent word is '{frequent_word}' which appears {frequency} times.\")\n",
        "\n",
        "    # Total characters (excluding spaces)\n",
        "    char_count = count_characters(user_input)\n",
        "    print(f\"\\nTotal number of characters (excluding spaces): {char_count}\")\n",
        "\n",
        "    # Longest word\n",
        "    longest_word = find_longest_word(user_input)\n",
        "    print(f\"\\nThe longest word is: {longest_word}\")\n"
      ]
    }
  ]
}