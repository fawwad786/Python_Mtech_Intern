{
  "nbformat": 4,
  "nbformat_minor": 0,
  "metadata": {
    "colab": {
      "provenance": []
    },
    "kernelspec": {
      "name": "python3",
      "display_name": "Python 3"
    },
    "language_info": {
      "name": "python"
    }
  },
  "cells": [
    {
      "cell_type": "code",
      "execution_count": 1,
      "metadata": {
        "id": "AhVY6IKuoDXy",
        "colab": {
          "base_uri": "https://localhost:8080/"
        },
        "outputId": "1ba764b0-72bd-40ec-c9f7-2acce56e1caf"
      },
      "outputs": [
        {
          "output_type": "stream",
          "name": "stdout",
          "text": [
            "Currency Converter\n",
            "Enter the amount: 35\n",
            "Enter the from currency (e.g., USD, PKR, CNY, EUR, GBP): USD\n",
            "Enter the to currency (e.g., USD, PKR, CNY, EUR, GBP): PKR\n",
            "35.0 USD is equal to 9738.75 PKR\n"
          ]
        }
      ],
      "source": [
        "#conversion rates\n",
        "conversion_rates = {\n",
        "    'USD': {'PKR': 278.25, 'CNY': 39.23 / 278.25, 'EUR': 1.11, 'GBP': 1.31},\n",
        "    'PKR': {'USD': 1 / 278.25, 'CNY': 39.23 / 278.25, 'EUR': 1 / 308.37, 'GBP': 1 / 365.16},\n",
        "    'CNY': {'USD': 278.25 / 39.23, 'PKR': 39.23, 'EUR': (1 / 39.23) * 308.37, 'GBP': (1 / 39.23) * 365.16},\n",
        "    'EUR': {'USD': 1.11, 'PKR': 308.37, 'CNY': 39.23 / 308.37, 'GBP': 365.16 / 308.37},\n",
        "    'GBP': {'USD': 1.31, 'PKR': 365.16, 'CNY': 39.23 / 365.16, 'EUR': 308.37 / 365.16}\n",
        "}\n",
        "\n",
        "# Function to convert currency\n",
        "def convert_currency(amount, from_currency, to_currency):\n",
        "    try:\n",
        "        rate = conversion_rates[from_currency][to_currency]\n",
        "        converted_amount = amount * rate\n",
        "        return converted_amount\n",
        "    except KeyError:\n",
        "        print(\"Invalid currency code!\")\n",
        "        return None\n",
        "\n",
        "# Main program\n",
        "if __name__ == \"__main__\":\n",
        "    print(\"Currency Converter\")\n",
        "\n",
        "    # Take inputs from the user\n",
        "    try:\n",
        "        amount = float(input(\"Enter the amount: \"))\n",
        "        from_currency = input(\"Enter the from currency (e.g., USD, PKR, CNY, EUR, GBP): \").upper()\n",
        "        to_currency = input(\"Enter the to currency (e.g., USD, PKR, CNY, EUR, GBP): \").upper()\n",
        "\n",
        "        # Convert the currency\n",
        "        converted_amount = convert_currency(amount, from_currency, to_currency)\n",
        "\n",
        "        if converted_amount is not None:\n",
        "            print(f\"{amount} {from_currency} is equal to {converted_amount:.2f} {to_currency}\")\n",
        "    except ValueError:\n",
        "        print(\"Please enter a valid number for the amount.\")\n"
      ]
    }
  ]
}