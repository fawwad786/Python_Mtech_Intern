{
  "nbformat": 4,
  "nbformat_minor": 0,
  "metadata": {
    "colab": {
      "provenance": []
    },
    "kernelspec": {
      "name": "python3",
      "display_name": "Python 3"
    },
    "language_info": {
      "name": "python"
    }
  },
  "cells": [
    {
      "cell_type": "markdown",
      "source": [
        "#**QR Code**"
      ],
      "metadata": {
        "id": "tLy8bskXUEzW"
      }
    },
    {
      "cell_type": "code",
      "source": [
        "!pip install qrcode[pil]\n"
      ],
      "metadata": {
        "colab": {
          "base_uri": "https://localhost:8080/"
        },
        "id": "yclF1IjZUVx6",
        "outputId": "5b4e2cc9-0e5f-4df4-b7ed-c077ed4b30dd"
      },
      "execution_count": null,
      "outputs": [
        {
          "output_type": "stream",
          "name": "stdout",
          "text": [
            "Collecting qrcode[pil]\n",
            "  Downloading qrcode-7.4.2-py3-none-any.whl.metadata (17 kB)\n",
            "Requirement already satisfied: typing-extensions in /usr/local/lib/python3.10/dist-packages (from qrcode[pil]) (4.12.2)\n",
            "Collecting pypng (from qrcode[pil])\n",
            "  Downloading pypng-0.20220715.0-py3-none-any.whl.metadata (13 kB)\n",
            "Requirement already satisfied: pillow>=9.1.0 in /usr/local/lib/python3.10/dist-packages (from qrcode[pil]) (9.4.0)\n",
            "Downloading pypng-0.20220715.0-py3-none-any.whl (58 kB)\n",
            "\u001b[2K   \u001b[90m━━━━━━━━━━━━━━━━━━━━━━━━━━━━━━━━━━━━━━━━\u001b[0m \u001b[32m58.1/58.1 kB\u001b[0m \u001b[31m2.2 MB/s\u001b[0m eta \u001b[36m0:00:00\u001b[0m\n",
            "\u001b[?25hDownloading qrcode-7.4.2-py3-none-any.whl (46 kB)\n",
            "\u001b[2K   \u001b[90m━━━━━━━━━━━━━━━━━━━━━━━━━━━━━━━━━━━━━━━━\u001b[0m \u001b[32m46.2/46.2 kB\u001b[0m \u001b[31m3.9 MB/s\u001b[0m eta \u001b[36m0:00:00\u001b[0m\n",
            "\u001b[?25hInstalling collected packages: pypng, qrcode\n",
            "Successfully installed pypng-0.20220715.0 qrcode-7.4.2\n"
          ]
        }
      ]
    },
    {
      "cell_type": "markdown",
      "source": [],
      "metadata": {
        "id": "WJPsrH8mUEv2"
      }
    },
    {
      "cell_type": "code",
      "execution_count": null,
      "metadata": {
        "colab": {
          "base_uri": "https://localhost:8080/"
        },
        "id": "c9Hzvq7bT9xS",
        "outputId": "8096429c-ce57-4c28-874c-5e3b4b762d53"
      },
      "outputs": [
        {
          "output_type": "stream",
          "name": "stdout",
          "text": [
            "Enter a link to generate a QR code: https://www.youtube.com/@Bushra_Akram_/videos\n",
            "QR code generated and saved as 'qrcode.png'.\n"
          ]
        }
      ],
      "source": [
        "# Import the required libraries\n",
        "import qrcode\n",
        "from PIL import Image\n",
        "\n",
        "# Function to generate QR code\n",
        "def generate_qr_code(link):\n",
        "    # Create a QRCode object\n",
        "    qr = qrcode.QRCode(\n",
        "        version=1,  # Controls the size of the QR code\n",
        "        error_correction=qrcode.constants.ERROR_CORRECT_L,  # About 7% or less error correction\n",
        "        box_size=10,  # Size of each box in pixels\n",
        "        border=4,  # Thickness of the border\n",
        "    )\n",
        "\n",
        "    # Add the data (link) to the QR code\n",
        "    qr.add_data(link)\n",
        "    qr.make(fit=True)\n",
        "\n",
        "    # Create an image from the QR code\n",
        "    img = qr.make_image(fill='black', back_color='white')\n",
        "\n",
        "    # Save the image\n",
        "    img.save(\"qrcode.png\")\n",
        "\n",
        "    # Display the image\n",
        "    img.show()\n",
        "\n",
        "# Main program\n",
        "if __name__ == \"__main__\":\n",
        "    # Ask the user for a link\n",
        "    link = input(\"Enter a link to generate a QR code: \")\n",
        "\n",
        "    # Call the function to generate the QR code\n",
        "    generate_qr_code(link)\n",
        "\n",
        "    print(\"QR code generated and saved as 'qrcode.png'.\")\n"
      ]
    }
  ]
}