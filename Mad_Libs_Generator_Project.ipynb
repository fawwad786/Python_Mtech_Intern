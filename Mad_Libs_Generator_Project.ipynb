{
  "nbformat": 4,
  "nbformat_minor": 0,
  "metadata": {
    "colab": {
      "provenance": []
    },
    "kernelspec": {
      "name": "python3",
      "display_name": "Python 3"
    },
    "language_info": {
      "name": "python"
    }
  },
  "cells": [
    {
      "cell_type": "markdown",
      "source": [
        "#**Mad Libs Generator Project**"
      ],
      "metadata": {
        "id": "3q8Xu1VTAbaU"
      }
    },
    {
      "cell_type": "code",
      "source": [
        "# Mad Libs Generator\n",
        "\n",
        "def generate_mad_libs():\n",
        "    print(\"Welcome to the Mad Libs Generator!\")\n",
        "\n",
        "    # User inputs for the story\n",
        "    adjective1 = input(\"Enter an adjective: \")\n",
        "    noun1 = input(\"Enter a noun: \")\n",
        "    verb1 = input(\"Enter a verb: \")\n",
        "    place = input(\"Enter a place: \")\n",
        "    noun2 = input(\"Enter another noun: \")\n",
        "    adjective2 = input(\"Enter another adjective: \")\n",
        "\n",
        "    # Story template\n",
        "    story = f\"Once upon a time in {place}, there was a {adjective1} {noun1} that loved to {verb1}. \" \\\n",
        "            f\"One day, it met a {adjective2} {noun2} and they became best friends!\"\n",
        "\n",
        "    # Display the completed story\n",
        "    print(\"\\nHere is your Mad Libs story:\")\n",
        "    print(story)\n",
        "\n",
        "# Main program\n",
        "if __name__ == \"__main__\":\n",
        "    generate_mad_libs()\n"
      ],
      "metadata": {
        "id": "nMMG45uMAhZ9",
        "colab": {
          "base_uri": "https://localhost:8080/"
        },
        "outputId": "4ed12ac0-4251-41c9-c06a-d8cdff5bb4ae"
      },
      "execution_count": 3,
      "outputs": [
        {
          "output_type": "stream",
          "name": "stdout",
          "text": [
            "Welcome to the Mad Libs Generator!\n",
            "Enter an adjective: happy\n",
            "Enter a noun: dog\n",
            "Enter a verb: play\n",
            "Enter a place: park\n",
            "Enter another noun: ball\n",
            "Enter another adjective: funny\n",
            "\n",
            "Here is your Mad Libs story:\n",
            "Once upon a time in park, there was a happy dog that loved to play. One day, it met a funny ball and they became best friends!\n"
          ]
        }
      ]
    }
  ]
}