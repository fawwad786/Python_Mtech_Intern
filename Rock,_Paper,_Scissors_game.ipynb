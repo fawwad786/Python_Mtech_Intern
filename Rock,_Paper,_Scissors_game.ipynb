{
  "nbformat": 4,
  "nbformat_minor": 0,
  "metadata": {
    "colab": {
      "provenance": []
    },
    "kernelspec": {
      "name": "python3",
      "display_name": "Python 3"
    },
    "language_info": {
      "name": "python"
    }
  },
  "cells": [
    {
      "cell_type": "markdown",
      "source": [
        "#**Rock, Paper, Scissors game**\n",
        "\n",
        "\n",
        "\n"
      ],
      "metadata": {
        "id": "LHgwGH55GnbZ"
      }
    },
    {
      "cell_type": "code",
      "execution_count": 4,
      "metadata": {
        "colab": {
          "base_uri": "https://localhost:8080/"
        },
        "id": "vRE8OS2hEnKz",
        "outputId": "6b92db31-aa2a-4ed8-8e46-ca63dd0d37e8"
      },
      "outputs": [
        {
          "output_type": "stream",
          "name": "stdout",
          "text": [
            "Welcome to Rock, Paper, Scissors Game!\n",
            "Enter your choice (rock, paper, scissors): rock\n",
            "You chose: rock\n",
            "Computer chose: paper\n",
            "You lose!\n"
          ]
        }
      ],
      "source": [
        "import random\n",
        "\n",
        "# Function to get the user's choice\n",
        "def get_user_choice():\n",
        "    user_input = input(\"Enter your choice (rock, paper, scissors): \").lower()\n",
        "    if user_input in [\"rock\", \"paper\", \"scissors\"]:\n",
        "        return user_input\n",
        "    else:\n",
        "        print(\"Invalid choice! Please try again.\")\n",
        "        return get_user_choice()\n",
        "\n",
        "# Function to get the computer's choice\n",
        "def get_computer_choice():\n",
        "    choices = [\"rock\", \"paper\", \"scissors\"]\n",
        "    return random.choice(choices)\n",
        "\n",
        "# Function to determine the winner\n",
        "def determine_winner(user_choice, computer_choice):\n",
        "    if user_choice == computer_choice:\n",
        "        return \"It's a tie!\"\n",
        "    elif (user_choice == \"rock\" and computer_choice == \"scissors\") or \\\n",
        "         (user_choice == \"paper\" and computer_choice == \"rock\") or \\\n",
        "         (user_choice == \"scissors\" and computer_choice == \"paper\"):\n",
        "        return \"You win!\"\n",
        "    else:\n",
        "        return \"You lose!\"\n",
        "\n",
        "# Main function to run the game\n",
        "def main():\n",
        "    print(\"Welcome to Rock, Paper, Scissors Game!\")\n",
        "\n",
        "    user_choice = get_user_choice()\n",
        "    computer_choice = get_computer_choice()\n",
        "\n",
        "    print(f\"You chose: {user_choice}\")\n",
        "    print(f\"Computer chose: {computer_choice}\")\n",
        "\n",
        "    result = determine_winner(user_choice, computer_choice)\n",
        "    print(result)\n",
        "\n",
        "if __name__ == \"__main__\":\n",
        "    main()\n"
      ]
    }
  ]
}